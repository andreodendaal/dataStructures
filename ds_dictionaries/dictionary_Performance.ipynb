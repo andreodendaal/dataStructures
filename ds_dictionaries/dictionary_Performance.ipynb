{
 "cells": [
  {
   "cell_type": "code",
   "execution_count": 1,
   "metadata": {
    "collapsed": true
   },
   "outputs": [
    {
     "name": "stdout",
     "output_type": "stream",
     "text": [
      "10000,     0.000,     0.000\n30000,     0.000,     0.000\n50000,     0.000,     0.000\n70000,     0.000,     0.000\n90000,     0.001,     0.000\n110000,     0.001,     0.000\n130000,     0.001,     0.000\n150000,     0.001,     0.000\n170000,     0.000,     0.000\n190000,     0.003,     0.000\n"
     ]
    },
    {
     "name": "stdout",
     "output_type": "stream",
     "text": [
      "210000,     0.001,     0.000\n230000,     0.004,     0.000\n250000,     0.002,     0.000\n"
     ]
    },
    {
     "name": "stdout",
     "output_type": "stream",
     "text": [
      "270000,     0.001,     0.000\n290000,     0.002,     0.000\n310000,     0.002,     0.000\n330000,     0.000,     0.000\n"
     ]
    },
    {
     "name": "stdout",
     "output_type": "stream",
     "text": [
      "350000,     0.005,     0.000\n370000,     0.004,     0.000\n390000,     0.000,     0.000\n"
     ]
    },
    {
     "name": "stdout",
     "output_type": "stream",
     "text": [
      "410000,     0.009,     0.000\n430000,     0.005,     0.000\n450000,     0.006,     0.000\n"
     ]
    },
    {
     "name": "stdout",
     "output_type": "stream",
     "text": [
      "470000,     0.007,     0.000\n490000,     0.006,     0.000\n510000,     0.005,     0.000\n"
     ]
    },
    {
     "name": "stdout",
     "output_type": "stream",
     "text": [
      "530000,     0.004,     0.000\n550000,     0.008,     0.000\n570000,     0.006,     0.000\n"
     ]
    },
    {
     "name": "stdout",
     "output_type": "stream",
     "text": [
      "590000,     0.001,     0.000\n610000,     0.004,     0.000\n"
     ]
    },
    {
     "name": "stdout",
     "output_type": "stream",
     "text": [
      "630000,     0.002,     0.000\n650000,     0.010,     0.000\n670000,     0.002,     0.000\n"
     ]
    },
    {
     "name": "stdout",
     "output_type": "stream",
     "text": [
      "690000,     0.002,     0.000\n710000,     0.001,     0.000\n"
     ]
    },
    {
     "name": "stdout",
     "output_type": "stream",
     "text": [
      "730000,     0.009,     0.000\n750000,     0.008,     0.000\n"
     ]
    },
    {
     "name": "stdout",
     "output_type": "stream",
     "text": [
      "770000,     0.003,     0.000\n790000,     0.010,     0.000\n"
     ]
    },
    {
     "name": "stdout",
     "output_type": "stream",
     "text": [
      "810000,     0.010,     0.000\n830000,     0.006,     0.000\n"
     ]
    },
    {
     "name": "stdout",
     "output_type": "stream",
     "text": [
      "850000,     0.005,     0.000\n870000,     0.011,     0.000\n"
     ]
    },
    {
     "name": "stdout",
     "output_type": "stream",
     "text": [
      "890000,     0.008,     0.000\n910000,     0.001,     0.000\n"
     ]
    },
    {
     "name": "stdout",
     "output_type": "stream",
     "text": [
      "930000,     0.007,     0.000\n950000,     0.014,     0.000\n"
     ]
    },
    {
     "name": "stdout",
     "output_type": "stream",
     "text": [
      "970000,     0.003,     0.000\n990000,     0.013,     0.000\n"
     ]
    }
   ],
   "source": [
    "import timeit\n",
    "import random\n",
    "\n",
    "for i in range(10000, 1000001, 20000):\n",
    "    t = timeit.Timer(\"random.randrange(%d) in x\" % i,\n",
    "                     \"from __main__ import random,x\")\n",
    "    x = list(range(i))\n",
    "     \n",
    "    lst_time = t.timeit(number=1)\n",
    "    \n",
    "    x = {j: None for j in range(i)}\n",
    "    d_time = t.timeit(number=1)\n",
    "    print(\"%d,%10.3f,%10.3f\" % (i, lst_time, d_time))"
   ]
  },
  {
   "cell_type": "code",
   "execution_count": 4,
   "metadata": {},
   "outputs": [],
   "source": [
    ""
   ]
  },
  {
   "cell_type": "code",
   "execution_count": null,
   "metadata": {},
   "outputs": [],
   "source": [
    ""
   ]
  }
 ],
 "metadata": {
  "kernelspec": {
   "display_name": "Python 2",
   "language": "python",
   "name": "python2"
  },
  "language_info": {
   "codemirror_mode": {
    "name": "ipython",
    "version": 2
   },
   "file_extension": ".py",
   "mimetype": "text/x-python",
   "name": "python",
   "nbconvert_exporter": "python",
   "pygments_lexer": "ipython2",
   "version": "2.7.6"
  }
 },
 "nbformat": 4,
 "nbformat_minor": 0
}
